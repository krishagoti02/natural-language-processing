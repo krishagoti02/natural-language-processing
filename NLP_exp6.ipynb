{
  "nbformat": 4,
  "nbformat_minor": 0,
  "metadata": {
    "colab": {
      "provenance": []
    },
    "kernelspec": {
      "name": "python3",
      "display_name": "Python 3"
    },
    "language_info": {
      "name": "python"
    }
  },
  "cells": [
    {
      "cell_type": "markdown",
      "source": [
        "C035\n",
        "Krisha Goti"
      ],
      "metadata": {
        "id": "huiQ_dpeu4bq"
      }
    },
    {
      "cell_type": "markdown",
      "source": [
        "# Implementing POS tagging using Python"
      ],
      "metadata": {
        "id": "W2QEXmwbC5sx"
      }
    },
    {
      "cell_type": "markdown",
      "source": [
        "**B.1 Tasks given in PART A to be completed here**\n"
      ],
      "metadata": {
        "id": "Fh-YjycIvYwZ"
      }
    },
    {
      "cell_type": "code",
      "execution_count": null,
      "metadata": {
        "colab": {
          "base_uri": "https://localhost:8080/"
        },
        "id": "Jwseyn1qCWIH",
        "outputId": "2038c07b-feff-456a-af9e-c735deae80c6"
      },
      "outputs": [
        {
          "output_type": "stream",
          "name": "stderr",
          "text": [
            "[nltk_data] Downloading package punkt to /root/nltk_data...\n",
            "[nltk_data]   Unzipping tokenizers/punkt.zip.\n",
            "[nltk_data] Downloading package averaged_perceptron_tagger to\n",
            "[nltk_data]     /root/nltk_data...\n",
            "[nltk_data]   Unzipping taggers/averaged_perceptron_tagger.zip.\n"
          ]
        }
      ],
      "source": [
        "import nltk\n",
        "\n",
        "nltk.download('punkt')\n",
        "nltk.download('averaged_perceptron_tagger')\n",
        "\n",
        "from nltk.tokenize import word_tokenize\n",
        "from nltk import pos_tag"
      ]
    },
    {
      "cell_type": "code",
      "source": [
        "sentence = \"krisha is in love with Python.\"\n",
        "\n",
        "words = word_tokenize(sentence)\n",
        "pos_tags = pos_tag(words)\n",
        "pos_tags"
      ],
      "metadata": {
        "colab": {
          "base_uri": "https://localhost:8080/"
        },
        "id": "adNieDH8Cfax",
        "outputId": "2183ccb2-e7ff-4839-9a49-eefc54df8b75"
      },
      "execution_count": null,
      "outputs": [
        {
          "output_type": "execute_result",
          "data": {
            "text/plain": [
              "[('krisha', 'NN'),\n",
              " ('is', 'VBZ'),\n",
              " ('in', 'IN'),\n",
              " ('love', 'NN'),\n",
              " ('with', 'IN'),\n",
              " ('Python', 'NNP'),\n",
              " ('.', '.')]"
            ]
          },
          "metadata": {},
          "execution_count": 2
        }
      ]
    },
    {
      "cell_type": "markdown",
      "source": [
        "# Implementing NER using python"
      ],
      "metadata": {
        "id": "AWuELtt3C-QN"
      }
    },
    {
      "cell_type": "code",
      "source": [
        "import nltk\n",
        "\n",
        "nltk.download('punkt')\n",
        "nltk.download('averaged_perceptron_tagger')\n",
        "nltk.download('maxent_ne_chunker')\n",
        "nltk.download('words')\n",
        "\n",
        "from nltk.tokenize import word_tokenize\n",
        "from nltk import pos_tag\n",
        "from nltk import ne_chunk"
      ],
      "metadata": {
        "id": "TtlATaZlCiWJ",
        "outputId": "36c76785-182c-4828-8d7a-b40b88ce85a2",
        "colab": {
          "base_uri": "https://localhost:8080/"
        }
      },
      "execution_count": null,
      "outputs": [
        {
          "output_type": "stream",
          "name": "stderr",
          "text": [
            "[nltk_data] Downloading package punkt to /root/nltk_data...\n",
            "[nltk_data]   Package punkt is already up-to-date!\n",
            "[nltk_data] Downloading package averaged_perceptron_tagger to\n",
            "[nltk_data]     /root/nltk_data...\n",
            "[nltk_data]   Package averaged_perceptron_tagger is already up-to-\n",
            "[nltk_data]       date!\n",
            "[nltk_data] Downloading package maxent_ne_chunker to\n",
            "[nltk_data]     /root/nltk_data...\n",
            "[nltk_data]   Unzipping chunkers/maxent_ne_chunker.zip.\n",
            "[nltk_data] Downloading package words to /root/nltk_data...\n",
            "[nltk_data]   Unzipping corpora/words.zip.\n"
          ]
        }
      ]
    },
    {
      "cell_type": "code",
      "source": [
        "sentence = \"John is in love with python language and is working at Google.\"\n",
        "\n",
        "words = word_tokenize(sentence)\n",
        "pos_tags = pos_tag(words)\n",
        "ner_tags = ne_chunk(pos_tags)\n",
        "\n",
        "named_entities = []\n",
        "for subtree in ner_tags.subtrees():\n",
        "    if subtree.label() in ['ORGANIZATION', 'PERSON', 'LOCATION']:\n",
        "        entity = ' '.join([word for word, tag in subtree.leaves()])\n",
        "        named_entities.append((entity, subtree.label()))\n",
        "\n",
        "print(named_entities)"
      ],
      "metadata": {
        "id": "_EKd3NlkDKQe",
        "outputId": "eb39eded-a66f-4179-8a04-f9cc9e769395",
        "colab": {
          "base_uri": "https://localhost:8080/"
        }
      },
      "execution_count": null,
      "outputs": [
        {
          "output_type": "stream",
          "name": "stdout",
          "text": [
            "[('John', 'PERSON'), ('Google', 'ORGANIZATION')]\n"
          ]
        }
      ]
    },
    {
      "cell_type": "markdown",
      "source": [
        "**B.2 Observations and Learning:**"
      ],
      "metadata": {
        "id": "CGhG9xm5ven-"
      }
    },
    {
      "cell_type": "markdown",
      "source": [
        "In this experiment we have observed and studied about\n",
        "1. Understand POS Tagging and NER\n",
        "2. Design and Implementation of POS and NER\n"
      ],
      "metadata": {
        "id": "hpTxPoJcviKr"
      }
    },
    {
      "cell_type": "markdown",
      "source": [
        "**B.3 Conclusion:**"
      ],
      "metadata": {
        "id": "ptkj6YaBvmtc"
      }
    },
    {
      "cell_type": "markdown",
      "source": [
        "After successfully completing this experiment we are able to:\n",
        "\n",
        "a) Part of speech tagging - like noun, pronoun, verb, adjective, adverb, preposition, conjunction, and interjection\n",
        "\n",
        "b) Identify the Named Entity Recognition (NER) in text data.\n"
      ],
      "metadata": {
        "id": "fE4FxV3hvpa8"
      }
    },
    {
      "cell_type": "markdown",
      "source": [
        "**B.4 Question of curiosity:**\n"
      ],
      "metadata": {
        "id": "h9oTZWiAvzA9"
      }
    },
    {
      "cell_type": "markdown",
      "source": [
        "1. **How HMM can be used in POS tagging?**\n",
        "* Hidden Markov Models (HMMs) can be used in Part-of-Speech (POS) tagging to predict the most likely POS tags for a sequence of words in a sentence. HMMs are a type of probabilistic model that can learn the statistical relationships between words and their corresponding POS tags from annotated training data.\n",
        "* In POS tagging, the HMM model considers each word in a sentence as an observation and assigns a POS tag to each observation based on the probabilities learned from the training data. The model uses a set of hidden states to represent the possible POS tags for each observation. The HMM algorithm then calculates the probability of each hidden state sequence given the observed sequence of words, using the Viterbi algorithm. The most likely hidden state sequence is chosen as the predicted POS tags for the sentence.\n",
        "\n",
        "\n",
        "2. **What are the Applications of NER?**\n",
        "* Information Extraction: NER can be used to automatically extract structured information from unstructured text, such as identifying names of people, organizations, locations, and other entities from news articles, social media posts, and other sources.\n",
        "* Search and recommendation: NER can improve the accuracy of search results and recommendations by identifying relevant entities in a query or user profile, and matching them with relevant documents or products.\n",
        "* Machine Translation: NER can be used to identify named entities in the source language and map them to their corresponding entities in the target language, which can improve the quality of machine translation.\n",
        "* Chatbots and virtual assistants: NER can be used to identify entities in user queries, such as names of places, dates, and times, and provide relevant responses or actions.\n",
        "* Sentiment Analysis: NER can help identify entities that are related to specific opinions or sentiments in text, which can improve the accuracy of sentiment analysis.\n",
        "\n",
        "3. **‘That former Sri Lanka skipper and ace batsman Aravinda De Silva is a man of few words was very much evident on Wednesday when the legendary batsman, who has always let his bat talk, struggled to answer a barrage of questions at a function to promote the cricket league in the city’.**\n",
        "\n",
        "* The above is a news item in Times of India (9/8/12). Assume you have only 4 tags N (noun), V (verb), J (adjective), R (adverb). Manually POS tag the above text.\n",
        "\n",
        "That (R) former (J) Sri Lanka (N) skipper (N) and (R) ace (J) batsman (N) Aravinda De Silva (N) is (V) a (R) man (N) of (R) few (J) words (N) was (V) very (R) much (J) evident (J) on (R) Wednesday (N) when (R) the (J) legendary (J) batsman (N), who (N) has (V) always (R) let (V) his (J) bat (N) talk (V), struggled (V) to (R) answer (V) a (R) barrage (N) of (R) questions (N) at (R) a (J) function (N) to (R) promote (V) the (N) cricket (N) league (N) in (R) the (N) city (N).\n",
        "\n",
        "\n"
      ],
      "metadata": {
        "id": "XTYoRTPNwJPk"
      }
    }
  ]
}